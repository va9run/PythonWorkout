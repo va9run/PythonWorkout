{
 "cells": [
  {
   "attachments": {},
   "cell_type": "markdown",
   "metadata": {},
   "source": [
    "Write a mysum function that work same as the built-in sum function. however,instead of taking  asingle sequence as a parameter, it should take a variable number of arguments. Thus, although you might invoke sum([1,2,3]), you'd instead invoke mysum(1,2,3) or mysum(1,2,3,4,5)"
   ]
  },
  {
   "cell_type": "code",
   "execution_count": 1,
   "metadata": {},
   "outputs": [],
   "source": [
    "def mysum(*numbers): # *args is used when one is not sure the exact number of variables used in function\n",
    "    add = 0\n",
    "\n",
    "    for i in numbers:\n",
    "        add += i \n",
    "    \n",
    "    return add"
   ]
  },
  {
   "cell_type": "code",
   "execution_count": 2,
   "metadata": {},
   "outputs": [
    {
     "data": {
      "text/plain": [
       "15"
      ]
     },
     "execution_count": 2,
     "metadata": {},
     "output_type": "execute_result"
    }
   ],
   "source": [
    "mysum(1,2,3,4,5)"
   ]
  },
  {
   "cell_type": "code",
   "execution_count": 3,
   "metadata": {},
   "outputs": [
    {
     "data": {
      "text/plain": [
       "607"
      ]
     },
     "execution_count": 3,
     "metadata": {},
     "output_type": "execute_result"
    }
   ],
   "source": [
    "mysum(10,10,20,340,56,81,90)"
   ]
  },
  {
   "attachments": {},
   "cell_type": "markdown",
   "metadata": {},
   "source": [
    "Write a mysum function that work same as the built-in sum function. however,instead of taking  asingle sequence as a parameter, it should take a variable number of arguments. Thus, although you might invoke sum([1,2,3]), you'd instead invoke mysum(1,2,3) or mysum(1,2,3,4,5) but now add a starting point as the built-in function does so a list and a starting point two parameters"
   ]
  },
  {
   "cell_type": "code",
   "execution_count": 5,
   "metadata": {},
   "outputs": [],
   "source": [
    "def mysum(numbers, startpoint = 0):\n",
    "    add = 0\n",
    "    number = numbers\n",
    "    for i in number:\n",
    "        add += i \n",
    "    add = add + startpoint\n",
    "    return add"
   ]
  },
  {
   "cell_type": "code",
   "execution_count": 6,
   "metadata": {},
   "outputs": [
    {
     "data": {
      "text/plain": [
       "20"
      ]
     },
     "execution_count": 6,
     "metadata": {},
     "output_type": "execute_result"
    }
   ],
   "source": [
    "mysum([2,3,4,5,6],0)"
   ]
  },
  {
   "cell_type": "code",
   "execution_count": 7,
   "metadata": {},
   "outputs": [
    {
     "data": {
      "text/plain": [
       "40"
      ]
     },
     "execution_count": 7,
     "metadata": {},
     "output_type": "execute_result"
    }
   ],
   "source": [
    "mysum([2,3,4,5,6],20)"
   ]
  },
  {
   "attachments": {},
   "cell_type": "markdown",
   "metadata": {},
   "source": [
    "Write a function that takes a list of numbers. It should return the average of those numbers"
   ]
  },
  {
   "cell_type": "code",
   "execution_count": 8,
   "metadata": {},
   "outputs": [],
   "source": [
    "def myaverage(numbers):\n",
    "    add = 0\n",
    "    number = numbers\n",
    "    for i in number:\n",
    "        add += i \n",
    "    add = add/len(numbers)\n",
    "    return add"
   ]
  },
  {
   "cell_type": "code",
   "execution_count": 10,
   "metadata": {},
   "outputs": [
    {
     "data": {
      "text/plain": [
       "2.5"
      ]
     },
     "execution_count": 10,
     "metadata": {},
     "output_type": "execute_result"
    }
   ],
   "source": [
    "myaverage([1,2,3,4])"
   ]
  },
  {
   "attachments": {},
   "cell_type": "markdown",
   "metadata": {},
   "source": [
    "Another way"
   ]
  },
  {
   "cell_type": "code",
   "execution_count": 11,
   "metadata": {},
   "outputs": [],
   "source": [
    "def myaverage(numbers):\n",
    "    add = 0\n",
    "    number = numbers\n",
    "    length = 0\n",
    "    for index, value in enumerate(number):\n",
    "        add += value \n",
    "        length = index+1 # we can use simple >>> length +=1\n",
    "    add = add/length\n",
    "    return add"
   ]
  },
  {
   "cell_type": "code",
   "execution_count": 12,
   "metadata": {},
   "outputs": [
    {
     "data": {
      "text/plain": [
       "2.5"
      ]
     },
     "execution_count": 12,
     "metadata": {},
     "output_type": "execute_result"
    }
   ],
   "source": [
    "myaverage([1,2,3,4])"
   ]
  },
  {
   "attachments": {},
   "cell_type": "markdown",
   "metadata": {},
   "source": [
    "Write a function that takes a list of words(strings). It should return a tuple containing three integers, representing the length of the shortest word, the length of the longest word, and the average word length"
   ]
  },
  {
   "cell_type": "code",
   "execution_count": 19,
   "metadata": {},
   "outputs": [],
   "source": [
    "def words(word):\n",
    "    shortest = 500 # just a crazy random number a word won't be long than this\n",
    "    longest = 0 # word won't be shorter than this\n",
    "    add = 0 # for average length\n",
    "\n",
    "    for i in word:\n",
    "        length = len(i)\n",
    "        if length > longest:\n",
    "            longest = length \n",
    "        if length < shortest:\n",
    "            shortest = length \n",
    "        add += length\n",
    "    average = add/len(word)\n",
    "    return  f'The shortest word is {min(word)} of length: {shortest}, longest is of length: {longest}, and average length of list of words {len(word)} provided: {average}'   \n",
    "        "
   ]
  },
  {
   "cell_type": "code",
   "execution_count": 20,
   "metadata": {},
   "outputs": [
    {
     "data": {
      "text/plain": [
       "'The shortest word is apple of length: 5, longest is of length: 7, and average length of list of words 2 provided: 6.0'"
      ]
     },
     "execution_count": 20,
     "metadata": {},
     "output_type": "execute_result"
    }
   ],
   "source": [
    "words(['apple','bannana'])"
   ]
  },
  {
   "attachments": {},
   "cell_type": "markdown",
   "metadata": {},
   "source": [
    "Another way"
   ]
  },
  {
   "cell_type": "code",
   "execution_count": 25,
   "metadata": {},
   "outputs": [],
   "source": [
    "def words(word):\n",
    "    lenlist = []\n",
    "    for i in word:\n",
    "        lenlist.append(len(i))\n",
    "\n",
    "    return f'The shortest word is of length: {min(lenlist)}, longest is of length: {max(lenlist)}, and average length of list of words {len(word)} provided: {sum(lenlist)/len(lenlist):.2f}'"
   ]
  },
  {
   "cell_type": "code",
   "execution_count": 26,
   "metadata": {},
   "outputs": [
    {
     "data": {
      "text/plain": [
       "'The shortest word is of length: 5, longest is of length: 7, and average length of list of words 3 provided: 6.33'"
      ]
     },
     "execution_count": 26,
     "metadata": {},
     "output_type": "execute_result"
    }
   ],
   "source": [
    "words(['apple','bannana','Cammeli'])"
   ]
  },
  {
   "attachments": {},
   "cell_type": "markdown",
   "metadata": {},
   "source": [
    "Write a function that takes a list of python objects. Sum the objects that either are integers or can be turned into integers, ignoring the others"
   ]
  },
  {
   "cell_type": "code",
   "execution_count": 27,
   "metadata": {},
   "outputs": [],
   "source": [
    "def find_int(integer):\n",
    "    add = 0\n",
    "    \n",
    "    for i in integer:\n",
    "        try:\n",
    "            number = int(i)\n",
    "            add += number \n",
    "        except ValueError as e:\n",
    "            pass \n",
    "\n",
    "    return add"
   ]
  },
  {
   "cell_type": "code",
   "execution_count": 33,
   "metadata": {},
   "outputs": [
    {
     "data": {
      "text/plain": [
       "6"
      ]
     },
     "execution_count": 33,
     "metadata": {},
     "output_type": "execute_result"
    }
   ],
   "source": [
    "find_int(['1',2,'a','c',3.1,'4.11','d'])"
   ]
  },
  {
   "cell_type": "code",
   "execution_count": null,
   "metadata": {},
   "outputs": [],
   "source": []
  }
 ],
 "metadata": {
  "kernelspec": {
   "display_name": ".venv",
   "language": "python",
   "name": "python3"
  },
  "language_info": {
   "codemirror_mode": {
    "name": "ipython",
    "version": 3
   },
   "file_extension": ".py",
   "mimetype": "text/x-python",
   "name": "python",
   "nbconvert_exporter": "python",
   "pygments_lexer": "ipython3",
   "version": "3.9.13"
  },
  "orig_nbformat": 4
 },
 "nbformat": 4,
 "nbformat_minor": 2
}
