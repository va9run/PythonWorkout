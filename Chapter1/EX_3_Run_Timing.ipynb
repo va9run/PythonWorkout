{
 "cells": [
  {
   "attachments": {},
   "cell_type": "markdown",
   "metadata": {},
   "source": [
    "Write a function (run_timing) taht asks how long it took for you to run 10K. It continues to ask you the timing for additional run, until user press Enter (empty string). The function exits after that and calculateand displays the average time that the 10K runs took"
   ]
  },
  {
   "cell_type": "code",
   "execution_count": 9,
   "metadata": {},
   "outputs": [],
   "source": [
    "def run_timming():\n",
    "    add = 0\n",
    "    count = 0\n",
    "    while True: \n",
    "        time = input(f\"Enter time for run no: {count+1}\")\n",
    "        if not time:\n",
    "            break \n",
    "        add += int(time) \n",
    "        count += 1\n",
    "    return f'The average time for {count} is: {add/count:.2f}'"
   ]
  },
  {
   "cell_type": "code",
   "execution_count": 10,
   "metadata": {},
   "outputs": [
    {
     "data": {
      "text/plain": [
       "'The average time for 3 is: 11.00'"
      ]
     },
     "execution_count": 10,
     "metadata": {},
     "output_type": "execute_result"
    }
   ],
   "source": [
    "run_timming()"
   ]
  },
  {
   "attachments": {},
   "cell_type": "markdown",
   "metadata": {},
   "source": [
    "## Now I want to ask user to tell how many record he wants to enter"
   ]
  },
  {
   "attachments": {},
   "cell_type": "markdown",
   "metadata": {},
   "source": [
    "### What I am going to do are:\n",
    "####    1) ask user to tell me the additional runs he made\n",
    "####    2) then I will let user to record time for all those runs"
   ]
  },
  {
   "cell_type": "code",
   "execution_count": 5,
   "metadata": {},
   "outputs": [],
   "source": [
    "def run_timming():\n",
    "    total_runs = int(input('Please enter total runs you want to record time for:'))\n",
    "    add = 0\n",
    "    \n",
    "    count = 0\n",
    "    while count < total_runs:\n",
    "        time = int(input(f\"Enter time for run no: {count+1}\"))\n",
    "\n",
    "        add += time \n",
    "        count +=1\n",
    "    return f'The average time for {total_runs} is: {add/total_runs:.2f}'"
   ]
  },
  {
   "cell_type": "code",
   "execution_count": 6,
   "metadata": {},
   "outputs": [
    {
     "data": {
      "text/plain": [
       "'The average time for 3 is: 11.00'"
      ]
     },
     "execution_count": 6,
     "metadata": {},
     "output_type": "execute_result"
    }
   ],
   "source": [
    "run_timming()"
   ]
  },
  {
   "attachments": {},
   "cell_type": "markdown",
   "metadata": {},
   "source": [
    "## Now I want to ask user how many record they wants to enter, and if they missed an entry then ask if they want to stop or skip the entry "
   ]
  },
  {
   "cell_type": "code",
   "execution_count": 12,
   "metadata": {},
   "outputs": [],
   "source": [
    "def run_timming():\n",
    "    total_runs = int(input('Please enter total runs you want to record time for:'))\n",
    "    add = 0\n",
    "\n",
    "    count = 0\n",
    "    while count < total_runs:\n",
    "        try:\n",
    "            entry = input(f\"Enter time for run no: {count+1}\")\n",
    "            if not entry:\n",
    "                resp = input(\"Do you want to stop(Y/N)?\")\n",
    "                if resp.capitalize() == 'Y':\n",
    "                    break \n",
    "                else:\n",
    "                    continue \n",
    "            add += int(entry)\n",
    "            count +=1 \n",
    "        except ValueError as e:\n",
    "            print(\"Please enter intger\")\n",
    "        \n",
    "    average = add/count \n",
    "    return f'The average time for {count} is: {average:.2f}'\n"
   ]
  },
  {
   "cell_type": "code",
   "execution_count": 14,
   "metadata": {},
   "outputs": [
    {
     "data": {
      "text/plain": [
       "'The average time for 3 is: 11.00'"
      ]
     },
     "execution_count": 14,
     "metadata": {},
     "output_type": "execute_result"
    }
   ],
   "source": [
    "run_timming()"
   ]
  },
  {
   "cell_type": "code",
   "execution_count": null,
   "metadata": {},
   "outputs": [],
   "source": []
  }
 ],
 "metadata": {
  "kernelspec": {
   "display_name": ".venv",
   "language": "python",
   "name": "python3"
  },
  "language_info": {
   "codemirror_mode": {
    "name": "ipython",
    "version": 3
   },
   "file_extension": ".py",
   "mimetype": "text/x-python",
   "name": "python",
   "nbconvert_exporter": "python",
   "pygments_lexer": "ipython3",
   "version": "3.9.13"
  },
  "orig_nbformat": 4
 },
 "nbformat": 4,
 "nbformat_minor": 2
}
