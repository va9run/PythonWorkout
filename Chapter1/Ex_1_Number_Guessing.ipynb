{
 "cells": [
  {
   "cell_type": "code",
   "execution_count": 1,
   "metadata": {},
   "outputs": [],
   "source": [
    "import random"
   ]
  },
  {
   "attachments": {},
   "cell_type": "markdown",
   "metadata": {},
   "source": [
    "### Function to build a guessing game that takes no arguments and chooses number between 0 and 100 and then ask user to guess the number and returns too high, too low or just right and exits after user guesses right number "
   ]
  },
  {
   "cell_type": "code",
   "execution_count": 4,
   "metadata": {},
   "outputs": [],
   "source": [
    "def guessing_game():\n",
    "    # Let computer picks one random number from 0 and 100\n",
    "    number = random.randint(0,100) # both inclusive\n",
    "\n",
    "    while True:\n",
    "        try:\n",
    "            guess = int(input('What is your guess?'))\n",
    "            print(f'My guess is {guess}')\n",
    "            if number == guess:\n",
    "                print(\"Just right!!!\")\n",
    "                break\n",
    "            elif number < guess:\n",
    "                print('Too high')\n",
    "            else:\n",
    "                print('Too low')\n",
    "        except ValueError as e:\n",
    "            print(\"Invalid entry, TRY AGAIN with Integer value\")\n",
    "            continue"
   ]
  },
  {
   "cell_type": "code",
   "execution_count": 5,
   "metadata": {},
   "outputs": [
    {
     "name": "stdout",
     "output_type": "stream",
     "text": [
      "My guess is 8\n",
      "Too low\n",
      "My guess is 20\n",
      "Too low\n",
      "Invalid entry\n",
      "My guess is 10\n",
      "Too low\n",
      "My guess is 50\n",
      "Too low\n",
      "My guess is 90\n",
      "Too high\n",
      "My guess is 70\n",
      "Too high\n",
      "My guess is 50\n",
      "Too low\n",
      "My guess is 50\n",
      "Too low\n",
      "My guess is 55\n",
      "Too high\n",
      "My guess is 51\n",
      "Too low\n",
      "My guess is 51\n",
      "Too low\n",
      "My guess is 53\n",
      "Just right!!!\n"
     ]
    }
   ],
   "source": [
    "guessing_game()"
   ]
  },
  {
   "attachments": {},
   "cell_type": "markdown",
   "metadata": {},
   "source": [
    "### Modify game such that it give only 3 chance to user to guess the correct number, if they try three times without success, the program tells them that they didn't guess in time and then exits"
   ]
  },
  {
   "cell_type": "code",
   "execution_count": 8,
   "metadata": {},
   "outputs": [],
   "source": [
    "def guessing_game():\n",
    "    # Let computer picks one random number from 0 and 100\n",
    "    number = random.randint(0,100) # both inclusive\n",
    "    count = 0\n",
    "    while count < 3:\n",
    "        try:\n",
    "            guess = int(input('What is your guess?'))\n",
    "            print(f'My guess is {guess}, which is:')\n",
    "            if number == guess:\n",
    "                print(\"Just right!!!\")\n",
    "                break\n",
    "            elif number < guess:\n",
    "                print('Too high')\n",
    "                count += 1\n",
    "            else:\n",
    "                print('Too low')\n",
    "                count += 1\n",
    "        except ValueError as e:\n",
    "            print(\"Invalid entry, TRY AGAIN with Integer value\")\n",
    "            continue"
   ]
  },
  {
   "cell_type": "code",
   "execution_count": 9,
   "metadata": {},
   "outputs": [
    {
     "name": "stdout",
     "output_type": "stream",
     "text": [
      "My guess is 13, which is:\n",
      "Too low\n",
      "My guess is 14, which is:\n",
      "Too low\n",
      "My guess is 100, which is:\n",
      "Too high\n"
     ]
    }
   ],
   "source": [
    "guessing_game()"
   ]
  },
  {
   "attachments": {},
   "cell_type": "markdown",
   "metadata": {},
   "source": [
    "Not only should you choose a random number, but you should also choose a random number base, from 2 to 16, in which the user should submit their input. If the user inputs \"10\" as their guess, you'll need to interpret it in the correct number base; \"10\" might mean 10(decimal), or 2 (binary), or 16 (hexadecimal)"
   ]
  },
  {
   "cell_type": "code",
   "execution_count": 18,
   "metadata": {},
   "outputs": [],
   "source": [
    "class number_guess:\n",
    "    def __init__(self):\n",
    "        self.chars = \"0123456789ABCDEF\"\n",
    "    \n",
    "    def base_converter(self, number, base):\n",
    "        if base == 10:\n",
    "            return str(number)\n",
    "        elif base == 2:\n",
    "            return bin(number)[2:]\n",
    "        elif base == 16:\n",
    "            return hex(number)[2:]\n",
    "        else:\n",
    "            num = \"\"\n",
    "            while number > 0:\n",
    "                number, remainder = divmod(number,base)\n",
    "                num = self.chars[remainder] + num \n",
    "            return num \n",
    "        \n",
    "    def guessing_game(self):\n",
    "        self.number = random.randint(0,100)\n",
    "        self.base = random.randint(2,16)\n",
    "        answer = self.base_converter(self.number,self.base)\n",
    "\n",
    "        while True:\n",
    "            guess = int(input(f'What is your guess for base {self.base}?'))\n",
    "            try:\n",
    "                if guess == answer:\n",
    "                    print(\"Right!!!\")\n",
    "                    break \n",
    "                else:\n",
    "                    print(\"Wrong guess\")\n",
    "            except ValueError as e:\n",
    "                print(\"Invalid input\")"
   ]
  },
  {
   "cell_type": "code",
   "execution_count": 21,
   "metadata": {},
   "outputs": [],
   "source": [
    "x = number_guess()\n",
    "x.guessing_game()"
   ]
  },
  {
   "attachments": {},
   "cell_type": "markdown",
   "metadata": {},
   "source": [
    "The program to choose a random word from the dictionary and then ask the user to guess the word. Instead of telling user that they shoudl guess a smaller or larger number, have them choose an earlier or later word in the dict"
   ]
  },
  {
   "cell_type": "code",
   "execution_count": 45,
   "metadata": {},
   "outputs": [],
   "source": [
    "def guess_word():\n",
    "    dictionary = ['Apple','Banana','Carrot','Same']\n",
    "    answer = random.choice(dictionary)\n",
    "\n",
    "    position = dictionary.index(answer)+1\n",
    "\n",
    "    while True:\n",
    "        guess = input(\"Guess a word from ['Apple','Banana','Carrot','Same']\")\n",
    "        if guess in dictionary:\n",
    "            guessPos = dictionary.index(guess)+1\n",
    "            if guess == answer:\n",
    "                print(\"Hoooray!!!\")\n",
    "                break \n",
    "            elif guess != answer:\n",
    "                if guessPos > position:\n",
    "                    print(\"Word is before what you have choosen\")\n",
    "                else:\n",
    "                    print(\"Word lies after guess you have made\")"
   ]
  },
  {
   "cell_type": "code",
   "execution_count": 47,
   "metadata": {},
   "outputs": [
    {
     "name": "stdout",
     "output_type": "stream",
     "text": [
      "Word is before what you have choosen\n",
      "Word is before what you have choosen\n",
      "Hoooray!!!\n"
     ]
    }
   ],
   "source": [
    "guess_word()"
   ]
  },
  {
   "cell_type": "code",
   "execution_count": null,
   "metadata": {},
   "outputs": [],
   "source": []
  }
 ],
 "metadata": {
  "kernelspec": {
   "display_name": ".venv",
   "language": "python",
   "name": "python3"
  },
  "language_info": {
   "codemirror_mode": {
    "name": "ipython",
    "version": 3
   },
   "file_extension": ".py",
   "mimetype": "text/x-python",
   "name": "python",
   "nbconvert_exporter": "python",
   "pygments_lexer": "ipython3",
   "version": "3.9.7"
  },
  "orig_nbformat": 4
 },
 "nbformat": 4,
 "nbformat_minor": 2
}
