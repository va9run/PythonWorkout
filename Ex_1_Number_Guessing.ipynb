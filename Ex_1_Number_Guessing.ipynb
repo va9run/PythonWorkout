{
 "cells": [
  {
   "cell_type": "code",
   "execution_count": 1,
   "metadata": {},
   "outputs": [],
   "source": [
    "import random"
   ]
  },
  {
   "attachments": {},
   "cell_type": "markdown",
   "metadata": {},
   "source": [
    "### Function to build a guessing game that takes no arguments and chooses number between 0 and 100 and then ask user to guess the number and returns too high, too low or just right and exits after user guesses right number "
   ]
  },
  {
   "cell_type": "code",
   "execution_count": 4,
   "metadata": {},
   "outputs": [],
   "source": [
    "def guessing_game():\n",
    "    # Let computer picks one random number from 0 and 100\n",
    "    number = random.randint(0,100) # both inclusive\n",
    "\n",
    "    while True:\n",
    "        try:\n",
    "            guess = int(input('What is your guess?'))\n",
    "            print(f'My guess is {guess}')\n",
    "            if number == guess:\n",
    "                print(\"Just right!!!\")\n",
    "                break\n",
    "            elif number < guess:\n",
    "                print('Too high')\n",
    "            else:\n",
    "                print('Too low')\n",
    "        except ValueError as e:\n",
    "            print(\"Invalid entry, TRY AGAIN with Integer value\")\n",
    "            continue"
   ]
  },
  {
   "cell_type": "code",
   "execution_count": 5,
   "metadata": {},
   "outputs": [
    {
     "name": "stdout",
     "output_type": "stream",
     "text": [
      "My guess is 8\n",
      "Too low\n",
      "My guess is 20\n",
      "Too low\n",
      "Invalid entry\n",
      "My guess is 10\n",
      "Too low\n",
      "My guess is 50\n",
      "Too low\n",
      "My guess is 90\n",
      "Too high\n",
      "My guess is 70\n",
      "Too high\n",
      "My guess is 50\n",
      "Too low\n",
      "My guess is 50\n",
      "Too low\n",
      "My guess is 55\n",
      "Too high\n",
      "My guess is 51\n",
      "Too low\n",
      "My guess is 51\n",
      "Too low\n",
      "My guess is 53\n",
      "Just right!!!\n"
     ]
    }
   ],
   "source": [
    "guessing_game()"
   ]
  },
  {
   "cell_type": "code",
   "execution_count": null,
   "metadata": {},
   "outputs": [],
   "source": []
  }
 ],
 "metadata": {
  "kernelspec": {
   "display_name": ".venv",
   "language": "python",
   "name": "python3"
  },
  "language_info": {
   "codemirror_mode": {
    "name": "ipython",
    "version": 3
   },
   "file_extension": ".py",
   "mimetype": "text/x-python",
   "name": "python",
   "nbconvert_exporter": "python",
   "pygments_lexer": "ipython3",
   "version": "3.9.7"
  },
  "orig_nbformat": 4
 },
 "nbformat": 4,
 "nbformat_minor": 2
}
