{
 "cells": [
  {
   "cell_type": "code",
   "execution_count": 54,
   "metadata": {},
   "outputs": [],
   "source": [
    "def pig_latin():\n",
    "    word = input()\n",
    "\n",
    "    # Check if the first letter is 'a,e,i,o,u'\n",
    "    if word[0].lower() in ('a','i','o','e','u'):\n",
    "        if word[0].isupper() == True:\n",
    "            print((word+'way').upper())\n",
    "            print('Yes')\n",
    "        else:\n",
    "            print((word+'way'))\n",
    "    else:\n",
    "        print(word[0].join([word[1:],'ay']))"
   ]
  },
  {
   "cell_type": "code",
   "execution_count": 56,
   "metadata": {},
   "outputs": [
    {
     "name": "stdout",
     "output_type": "stream",
     "text": [
      "arecay\n"
     ]
    }
   ],
   "source": [
    "pig_latin()"
   ]
  },
  {
   "cell_type": "code",
   "execution_count": 50,
   "metadata": {},
   "outputs": [
    {
     "data": {
      "text/plain": [
       "True"
      ]
     },
     "execution_count": 50,
     "metadata": {},
     "output_type": "execute_result"
    }
   ],
   "source": [
    "word = 'air'\n",
    "word[0] in ('a','i','o')"
   ]
  },
  {
   "cell_type": "code",
   "execution_count": 51,
   "metadata": {},
   "outputs": [],
   "source": [
    "if word[0].upper() is True:\n",
    "    print('yes')"
   ]
  },
  {
   "attachments": {},
   "cell_type": "markdown",
   "metadata": {},
   "source": [
    "### Consider an alternative version of Pig Latin"
   ]
  },
  {
   "cell_type": "code",
   "execution_count": 71,
   "metadata": {},
   "outputs": [],
   "source": [
    "def pig_latin():\n",
    "    word = input('Please input word of your choice')\n",
    "    \n",
    "    vowels = []\n",
    "    for index, wrd in enumerate(word):\n",
    "        if wrd in ('a','e','i','o','u'):\n",
    "            vowels.append(wrd)\n",
    "    if len(set(vowels)) == 2:\n",
    "        return f'{word}{\"way\"}'\n",
    "    else:\n",
    "        return f'{word[1:]}{word[0]}{\"ay\"}'\n"
   ]
  },
  {
   "cell_type": "code",
   "execution_count": 72,
   "metadata": {},
   "outputs": [
    {
     "data": {
      "text/plain": [
       "'asedekiCay'"
      ]
     },
     "execution_count": 72,
     "metadata": {},
     "output_type": "execute_result"
    }
   ],
   "source": [
    "pig_latin()"
   ]
  },
  {
   "cell_type": "code",
   "execution_count": null,
   "metadata": {},
   "outputs": [],
   "source": []
  }
 ],
 "metadata": {
  "kernelspec": {
   "display_name": ".venv",
   "language": "python",
   "name": "python3"
  },
  "language_info": {
   "codemirror_mode": {
    "name": "ipython",
    "version": 3
   },
   "file_extension": ".py",
   "mimetype": "text/x-python",
   "name": "python",
   "nbconvert_exporter": "python",
   "pygments_lexer": "ipython3",
   "version": "3.9.13"
  },
  "orig_nbformat": 4
 },
 "nbformat": 4,
 "nbformat_minor": 2
}
