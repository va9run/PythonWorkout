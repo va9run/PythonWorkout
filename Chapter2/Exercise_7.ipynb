{
 "cells": [
  {
   "attachments": {},
   "cell_type": "markdown",
   "metadata": {},
   "source": [
    "### Ubbi Dubbi"
   ]
  },
  {
   "cell_type": "code",
   "execution_count": 11,
   "metadata": {},
   "outputs": [],
   "source": [
    "def ubbi_dubbi():\n",
    "    userInput = input('Enter your word here')\n",
    "\n",
    "    ubbi_word = ''\n",
    "    for i in userInput:\n",
    "        if i.lower() in (['a','e','i','o','u']):\n",
    "            ubbi_word += 'ub'+i\n",
    "        else:\n",
    "            ubbi_word +=i \n",
    "    return ubbi_word\n",
    "    "
   ]
  },
  {
   "cell_type": "code",
   "execution_count": 12,
   "metadata": {},
   "outputs": [
    {
     "data": {
      "text/plain": [
       "'ubOwnuber'"
      ]
     },
     "execution_count": 12,
     "metadata": {},
     "output_type": "execute_result"
    }
   ],
   "source": [
    "ubbi_dubbi()"
   ]
  },
  {
   "cell_type": "code",
   "execution_count": 13,
   "metadata": {},
   "outputs": [],
   "source": [
    "def ubbi_dubbi():\n",
    "    userInput = input('Enter your word here')\n",
    "\n",
    "    ubbi_word = []\n",
    "\n",
    "    for letter in userInput:\n",
    "        if letter in 'aeiou':\n",
    "            ubbi_word.append(f'ub{letter}')\n",
    "        else:\n",
    "            ubbi_word.append(letter)\n",
    "    return ''.join(ubbi_word)"
   ]
  },
  {
   "cell_type": "code",
   "execution_count": 14,
   "metadata": {},
   "outputs": [
    {
     "data": {
      "text/plain": [
       "'Huberube'"
      ]
     },
     "execution_count": 14,
     "metadata": {},
     "output_type": "execute_result"
    }
   ],
   "source": [
    "ubbi_dubbi()"
   ]
  },
  {
   "attachments": {},
   "cell_type": "markdown",
   "metadata": {},
   "source": [
    "### _Handle capitalized words_"
   ]
  },
  {
   "cell_type": "code",
   "execution_count": 15,
   "metadata": {},
   "outputs": [],
   "source": [
    "def ubbi_dubbi():\n",
    "    userInput = input('Enter your word here')\n",
    "\n",
    "    ubbi_word = []\n",
    "\n",
    "    for index, letter in enumerate(userInput):\n",
    "        if index == 0 and letter.isupper():\n",
    "             ubbi_word.append(f'UB{letter}')\n",
    "        elif letter in 'aeiou':\n",
    "            ubbi_word.append(f'ub{letter}')\n",
    "        else:\n",
    "            ubbi_word.append(letter)\n",
    "    return ''.join(ubbi_word)"
   ]
  },
  {
   "cell_type": "code",
   "execution_count": 16,
   "metadata": {},
   "outputs": [
    {
     "data": {
      "text/plain": [
       "'UBEhuberube'"
      ]
     },
     "execution_count": 16,
     "metadata": {},
     "output_type": "execute_result"
    }
   ],
   "source": [
    "ubbi_dubbi()"
   ]
  },
  {
   "attachments": {},
   "cell_type": "markdown",
   "metadata": {},
   "source": [
    "### _Remove Authers Names_"
   ]
  },
  {
   "cell_type": "code",
   "execution_count": 17,
   "metadata": {},
   "outputs": [],
   "source": [
    "article = \"In the 1870s, newspapers and printers faced a very specific and very costly problem. Photography was a new and exciting medium at the time. Readers wanted to see more pictures, but nobody could figure out how to print images quickly and cheaply.\\\n",
    "For example, if a newspaper wanted to print an image in the 1870s, they had to commission an engraver to etch a copy of the photograph onto a steel plate by hand. These plates were used to press the image onto the page, but they often broke after just a few uses. This process of photoengraving, you can imagine, was remarkably time consuming and expensive.\\\n",
    "The man who invented a solution to this problem was named Frederic Eugene Ives. He went on to become a trailblazer in the field of photography and held over 70 patents by the end of his career. His story of creativity and innovation, which I will share now, is a useful case study for understanding the 5 key steps of the creative process.\""
   ]
  },
  {
   "cell_type": "code",
   "execution_count": 57,
   "metadata": {},
   "outputs": [],
   "source": [
    "new_article = article.replace(',','')\n",
    "new_article = new_article.replace('.','')"
   ]
  },
  {
   "cell_type": "code",
   "execution_count": 59,
   "metadata": {},
   "outputs": [
    {
     "data": {
      "text/plain": [
       "'In _ 1870s newspapers and printers faced _ very specific and very costly problem Photography was _ new and exciting medium at _ time Readers wanted to see more pictures but nobody could figure out how to print images quickly and cheaplyFor example if _ newspaper wanted to print an image in _ 1870s they had to commission an engraver to etch _ copy of _ photograph onto _ steel plate by hand These plates were used to press _ image onto _ page but they often broke after just _ few uses This process of photoengraving you can imagine was remarkably time consuming and expensiveThe man who invented _ solution to this problem was named Frederic Eugene Ives He went on to become _ trailblazer in _ field of photography and held over 70 patents by _ end of his career His story of creativity and innovation which I will share now is _ useful case study for understanding _ 5 key steps of _ creative process'"
      ]
     },
     "execution_count": 59,
     "metadata": {},
     "output_type": "execute_result"
    }
   ],
   "source": [
    "article_list = []\n",
    "\n",
    "replace_list = ['the','a']\n",
    "\n",
    "for i in new_article.split():\n",
    "    if i.lower() in replace_list:\n",
    "        article_list.append('_')\n",
    "    else:\n",
    "        article_list.append(i)\n",
    "' '.join(article_list)"
   ]
  },
  {
   "attachments": {},
   "cell_type": "markdown",
   "metadata": {},
   "source": [
    "### _Extra: Count Occurence of each word_"
   ]
  },
  {
   "cell_type": "code",
   "execution_count": 40,
   "metadata": {},
   "outputs": [],
   "source": [
    "x = {}\n",
    "\n",
    "for i in article.split():\n",
    "    if i.lower() in x:\n",
    "        x[i.lower()] += 1\n",
    "    else:\n",
    "        new_dict = {i.lower():1}\n",
    "        x.update(new_dict)"
   ]
  },
  {
   "cell_type": "code",
   "execution_count": 66,
   "metadata": {},
   "outputs": [
    {
     "data": {
      "text/plain": [
       "[('the', 10),\n",
       " ('a', 9),\n",
       " ('to', 8),\n",
       " ('and', 7),\n",
       " ('of', 6),\n",
       " ('in', 3),\n",
       " ('was', 3),\n",
       " ('1870s,', 2),\n",
       " ('very', 2),\n",
       " ('photography', 2),\n",
       " ('wanted', 2),\n",
       " ('but', 2),\n",
       " ('print', 2),\n",
       " ('an', 2),\n",
       " ('image', 2),\n",
       " ('they', 2),\n",
       " ('onto', 2),\n",
       " ('by', 2),\n",
       " ('this', 2),\n",
       " ('his', 2),\n",
       " ('newspapers', 1),\n",
       " ('printers', 1),\n",
       " ('faced', 1),\n",
       " ('specific', 1),\n",
       " ('costly', 1),\n",
       " ('problem.', 1),\n",
       " ('new', 1),\n",
       " ('exciting', 1),\n",
       " ('medium', 1),\n",
       " ('at', 1),\n",
       " ('time.', 1),\n",
       " ('readers', 1),\n",
       " ('see', 1),\n",
       " ('more', 1),\n",
       " ('pictures,', 1),\n",
       " ('nobody', 1),\n",
       " ('could', 1),\n",
       " ('figure', 1),\n",
       " ('out', 1),\n",
       " ('how', 1),\n",
       " ('images', 1),\n",
       " ('quickly', 1),\n",
       " ('cheaply.for', 1),\n",
       " ('example,', 1),\n",
       " ('if', 1),\n",
       " ('newspaper', 1),\n",
       " ('had', 1),\n",
       " ('commission', 1),\n",
       " ('engraver', 1),\n",
       " ('etch', 1),\n",
       " ('copy', 1),\n",
       " ('photograph', 1),\n",
       " ('steel', 1),\n",
       " ('plate', 1),\n",
       " ('hand.', 1),\n",
       " ('these', 1),\n",
       " ('plates', 1),\n",
       " ('were', 1),\n",
       " ('used', 1),\n",
       " ('press', 1),\n",
       " ('page,', 1),\n",
       " ('often', 1),\n",
       " ('broke', 1),\n",
       " ('after', 1),\n",
       " ('just', 1),\n",
       " ('few', 1),\n",
       " ('uses.', 1),\n",
       " ('process', 1),\n",
       " ('photoengraving,', 1),\n",
       " ('you', 1),\n",
       " ('can', 1),\n",
       " ('imagine,', 1),\n",
       " ('remarkably', 1),\n",
       " ('time', 1),\n",
       " ('consuming', 1),\n",
       " ('expensive.the', 1),\n",
       " ('man', 1),\n",
       " ('who', 1),\n",
       " ('invented', 1),\n",
       " ('solution', 1),\n",
       " ('problem', 1),\n",
       " ('named', 1),\n",
       " ('frederic', 1),\n",
       " ('eugene', 1),\n",
       " ('ives.', 1),\n",
       " ('he', 1),\n",
       " ('went', 1),\n",
       " ('on', 1),\n",
       " ('become', 1),\n",
       " ('trailblazer', 1),\n",
       " ('field', 1),\n",
       " ('held', 1),\n",
       " ('over', 1),\n",
       " ('70', 1),\n",
       " ('patents', 1),\n",
       " ('end', 1),\n",
       " ('career.', 1),\n",
       " ('story', 1),\n",
       " ('creativity', 1),\n",
       " ('innovation,', 1),\n",
       " ('which', 1),\n",
       " ('i', 1),\n",
       " ('will', 1),\n",
       " ('share', 1),\n",
       " ('now,', 1),\n",
       " ('is', 1),\n",
       " ('useful', 1),\n",
       " ('case', 1),\n",
       " ('study', 1),\n",
       " ('for', 1),\n",
       " ('understanding', 1),\n",
       " ('5', 1),\n",
       " ('key', 1),\n",
       " ('steps', 1),\n",
       " ('creative', 1),\n",
       " ('process.', 1)]"
      ]
     },
     "execution_count": 66,
     "metadata": {},
     "output_type": "execute_result"
    }
   ],
   "source": [
    "sorted(x.items(), key=lambda y: y[1], reverse=True)"
   ]
  },
  {
   "cell_type": "code",
   "execution_count": 61,
   "metadata": {},
   "outputs": [
    {
     "name": "stdout",
     "output_type": "stream",
     "text": [
      "in: 3\n",
      "the: 10\n",
      "1870s,: 2\n",
      "newspapers: 1\n",
      "and: 7\n",
      "printers: 1\n",
      "faced: 1\n",
      "a: 9\n",
      "very: 2\n",
      "specific: 1\n",
      "costly: 1\n",
      "problem.: 1\n",
      "photography: 2\n",
      "was: 3\n",
      "new: 1\n",
      "exciting: 1\n",
      "medium: 1\n",
      "at: 1\n",
      "time.: 1\n",
      "readers: 1\n",
      "wanted: 2\n",
      "to: 8\n",
      "see: 1\n",
      "more: 1\n",
      "pictures,: 1\n",
      "but: 2\n",
      "nobody: 1\n",
      "could: 1\n",
      "figure: 1\n",
      "out: 1\n",
      "how: 1\n",
      "print: 2\n",
      "images: 1\n",
      "quickly: 1\n",
      "cheaply.for: 1\n",
      "example,: 1\n",
      "if: 1\n",
      "newspaper: 1\n",
      "an: 2\n",
      "image: 2\n",
      "they: 2\n",
      "had: 1\n",
      "commission: 1\n",
      "engraver: 1\n",
      "etch: 1\n",
      "copy: 1\n",
      "of: 6\n",
      "photograph: 1\n",
      "onto: 2\n",
      "steel: 1\n",
      "plate: 1\n",
      "by: 2\n",
      "hand.: 1\n",
      "these: 1\n",
      "plates: 1\n",
      "were: 1\n",
      "used: 1\n",
      "press: 1\n",
      "page,: 1\n",
      "often: 1\n",
      "broke: 1\n",
      "after: 1\n",
      "just: 1\n",
      "few: 1\n",
      "uses.: 1\n",
      "this: 2\n",
      "process: 1\n",
      "photoengraving,: 1\n",
      "you: 1\n",
      "can: 1\n",
      "imagine,: 1\n",
      "remarkably: 1\n",
      "time: 1\n",
      "consuming: 1\n",
      "expensive.the: 1\n",
      "man: 1\n",
      "who: 1\n",
      "invented: 1\n",
      "solution: 1\n",
      "problem: 1\n",
      "named: 1\n",
      "frederic: 1\n",
      "eugene: 1\n",
      "ives.: 1\n",
      "he: 1\n",
      "went: 1\n",
      "on: 1\n",
      "become: 1\n",
      "trailblazer: 1\n",
      "field: 1\n",
      "held: 1\n",
      "over: 1\n",
      "70: 1\n",
      "patents: 1\n",
      "end: 1\n",
      "his: 2\n",
      "career.: 1\n",
      "story: 1\n",
      "creativity: 1\n",
      "innovation,: 1\n",
      "which: 1\n",
      "i: 1\n",
      "will: 1\n",
      "share: 1\n",
      "now,: 1\n",
      "is: 1\n",
      "useful: 1\n",
      "case: 1\n",
      "study: 1\n",
      "for: 1\n",
      "understanding: 1\n",
      "5: 1\n",
      "key: 1\n",
      "steps: 1\n",
      "creative: 1\n",
      "process.: 1\n"
     ]
    }
   ],
   "source": [
    "for word, count in x.items():\n",
    "    print(f'{word}: {count}')"
   ]
  },
  {
   "cell_type": "code",
   "execution_count": null,
   "metadata": {},
   "outputs": [],
   "source": []
  }
 ],
 "metadata": {
  "kernelspec": {
   "display_name": ".venv",
   "language": "python",
   "name": "python3"
  },
  "language_info": {
   "codemirror_mode": {
    "name": "ipython",
    "version": 3
   },
   "file_extension": ".py",
   "mimetype": "text/x-python",
   "name": "python",
   "nbconvert_exporter": "python",
   "pygments_lexer": "ipython3",
   "version": "3.9.13"
  },
  "orig_nbformat": 4
 },
 "nbformat": 4,
 "nbformat_minor": 2
}
