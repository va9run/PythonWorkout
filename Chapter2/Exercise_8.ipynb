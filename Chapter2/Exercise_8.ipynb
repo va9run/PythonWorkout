{
 "cells": [
  {
   "attachments": {},
   "cell_type": "markdown",
   "metadata": {},
   "source": [
    "### Sorting"
   ]
  },
  {
   "cell_type": "code",
   "execution_count": 4,
   "metadata": {},
   "outputs": [
    {
     "data": {
      "text/plain": [
       "'Dick, Harry, Tom'"
      ]
     },
     "execution_count": 4,
     "metadata": {},
     "output_type": "execute_result"
    }
   ],
   "source": [
    "x = \"Tom Dick Harry\"\n",
    "y = []\n",
    "for word in x.split(): # split, break and save\n",
    "    y.append(word)\n",
    "', '.join(sorted(y)) # sort and join together"
   ]
  },
  {
   "attachments": {},
   "cell_type": "markdown",
   "metadata": {},
   "source": [
    "#### _Longest_"
   ]
  },
  {
   "cell_type": "code",
   "execution_count": 5,
   "metadata": {},
   "outputs": [],
   "source": [
    "article = \"In the 1870s, newspapers and printers faced a very specific and very costly problem. Photography was a new and exciting medium at the time. Readers wanted to see more pictures, but nobody could figure out how to print images quickly and cheaply.\\\n",
    "For example, if a newspaper wanted to print an image in the 1870s, they had to commission an engraver to etch a copy of the photograph onto a steel plate by hand. These plates were used to press the image onto the page, but they often broke after just a few uses. This process of photoengraving, you can imagine, was remarkably time consuming and expensive.\\\n",
    "The man who invented a solution to this problem was named Frederic Eugene Ives. He went on to become a trailblazer in the field of photography and held over 70 patents by the end of his career. His story of creativity and innovation, which I will share now, is a useful case study for understanding the 5 key steps of the creative process.\""
   ]
  },
  {
   "cell_type": "code",
   "execution_count": 6,
   "metadata": {},
   "outputs": [],
   "source": [
    "new_article = article.replace(',','')\n",
    "new_article = new_article.replace('.','')"
   ]
  },
  {
   "cell_type": "code",
   "execution_count": 32,
   "metadata": {},
   "outputs": [],
   "source": [
    "x = {}\n",
    "\n",
    "for i in new_article.split():\n",
    "    if i.lower() in x:\n",
    "        pass\n",
    "    else:\n",
    "        new_dict = {i.lower():len(i)}\n",
    "        x.update(new_dict)"
   ]
  },
  {
   "cell_type": "code",
   "execution_count": 33,
   "metadata": {},
   "outputs": [
    {
     "data": {
      "text/plain": [
       "{'in': 2,\n",
       " 'the': 3,\n",
       " '1870s': 5,\n",
       " 'newspapers': 10,\n",
       " 'and': 3,\n",
       " 'printers': 8,\n",
       " 'faced': 5,\n",
       " 'a': 1,\n",
       " 'very': 4,\n",
       " 'specific': 8,\n",
       " 'costly': 6,\n",
       " 'problem': 7,\n",
       " 'photography': 11,\n",
       " 'was': 3,\n",
       " 'new': 3,\n",
       " 'exciting': 8,\n",
       " 'medium': 6,\n",
       " 'at': 2,\n",
       " 'time': 4,\n",
       " 'readers': 7,\n",
       " 'wanted': 6,\n",
       " 'to': 2,\n",
       " 'see': 3,\n",
       " 'more': 4,\n",
       " 'pictures': 8,\n",
       " 'but': 3,\n",
       " 'nobody': 6,\n",
       " 'could': 5,\n",
       " 'figure': 6,\n",
       " 'out': 3,\n",
       " 'how': 3,\n",
       " 'print': 5,\n",
       " 'images': 6,\n",
       " 'quickly': 7,\n",
       " 'cheaplyfor': 10,\n",
       " 'example': 7,\n",
       " 'if': 2,\n",
       " 'newspaper': 9,\n",
       " 'an': 2,\n",
       " 'image': 5,\n",
       " 'they': 4,\n",
       " 'had': 3,\n",
       " 'commission': 10,\n",
       " 'engraver': 8,\n",
       " 'etch': 4,\n",
       " 'copy': 4,\n",
       " 'of': 2,\n",
       " 'photograph': 10,\n",
       " 'onto': 4,\n",
       " 'steel': 5,\n",
       " 'plate': 5,\n",
       " 'by': 2,\n",
       " 'hand': 4,\n",
       " 'these': 5,\n",
       " 'plates': 6,\n",
       " 'were': 4,\n",
       " 'used': 4,\n",
       " 'press': 5,\n",
       " 'page': 4,\n",
       " 'often': 5,\n",
       " 'broke': 5,\n",
       " 'after': 5,\n",
       " 'just': 4,\n",
       " 'few': 3,\n",
       " 'uses': 4,\n",
       " 'this': 4,\n",
       " 'process': 7,\n",
       " 'photoengraving': 14,\n",
       " 'you': 3,\n",
       " 'can': 3,\n",
       " 'imagine': 7,\n",
       " 'remarkably': 10,\n",
       " 'consuming': 9,\n",
       " 'expensivethe': 12,\n",
       " 'man': 3,\n",
       " 'who': 3,\n",
       " 'invented': 8,\n",
       " 'solution': 8,\n",
       " 'named': 5,\n",
       " 'frederic': 8,\n",
       " 'eugene': 6,\n",
       " 'ives': 4,\n",
       " 'he': 2,\n",
       " 'went': 4,\n",
       " 'on': 2,\n",
       " 'become': 6,\n",
       " 'trailblazer': 11,\n",
       " 'field': 5,\n",
       " 'held': 4,\n",
       " 'over': 4,\n",
       " '70': 2,\n",
       " 'patents': 7,\n",
       " 'end': 3,\n",
       " 'his': 3,\n",
       " 'career': 6,\n",
       " 'story': 5,\n",
       " 'creativity': 10,\n",
       " 'innovation': 10,\n",
       " 'which': 5,\n",
       " 'i': 1,\n",
       " 'will': 4,\n",
       " 'share': 5,\n",
       " 'now': 3,\n",
       " 'is': 2,\n",
       " 'useful': 6,\n",
       " 'case': 4,\n",
       " 'study': 5,\n",
       " 'for': 3,\n",
       " 'understanding': 13,\n",
       " '5': 1,\n",
       " 'key': 3,\n",
       " 'steps': 5,\n",
       " 'creative': 8}"
      ]
     },
     "execution_count": 33,
     "metadata": {},
     "output_type": "execute_result"
    }
   ],
   "source": [
    "x"
   ]
  },
  {
   "cell_type": "code",
   "execution_count": 34,
   "metadata": {},
   "outputs": [
    {
     "data": {
      "text/plain": [
       "('photoengraving', 14)"
      ]
     },
     "execution_count": 34,
     "metadata": {},
     "output_type": "execute_result"
    }
   ],
   "source": [
    "max(x.items(),key= lambda y: y[1])"
   ]
  },
  {
   "cell_type": "code",
   "execution_count": 35,
   "metadata": {},
   "outputs": [],
   "source": [
    "wordlensorted = sorted(x.items(), key = lambda y: y[1], reverse = True)"
   ]
  },
  {
   "cell_type": "code",
   "execution_count": 36,
   "metadata": {},
   "outputs": [
    {
     "data": {
      "text/plain": [
       "('photoengraving', 14)"
      ]
     },
     "execution_count": 36,
     "metadata": {},
     "output_type": "execute_result"
    }
   ],
   "source": [
    "max(wordlensorted,key=lambda x: x[1])"
   ]
  },
  {
   "attachments": {},
   "cell_type": "markdown",
   "metadata": {},
   "source": [
    "#### _LAST WORD_"
   ]
  },
  {
   "cell_type": "code",
   "execution_count": 37,
   "metadata": {},
   "outputs": [],
   "source": [
    "wordList = list(x)"
   ]
  },
  {
   "cell_type": "code",
   "execution_count": 38,
   "metadata": {},
   "outputs": [
    {
     "data": {
      "text/plain": [
       "'creative'"
      ]
     },
     "execution_count": 38,
     "metadata": {},
     "output_type": "execute_result"
    }
   ],
   "source": [
    "wordList[-1]"
   ]
  }
 ],
 "metadata": {
  "kernelspec": {
   "display_name": ".venv",
   "language": "python",
   "name": "python3"
  },
  "language_info": {
   "codemirror_mode": {
    "name": "ipython",
    "version": 3
   },
   "file_extension": ".py",
   "mimetype": "text/x-python",
   "name": "python",
   "nbconvert_exporter": "python",
   "pygments_lexer": "ipython3",
   "version": "3.9.13"
  },
  "orig_nbformat": 4
 },
 "nbformat": 4,
 "nbformat_minor": 2
}
