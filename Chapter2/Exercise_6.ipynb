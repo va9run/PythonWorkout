{
 "cells": [
  {
   "cell_type": "code",
   "execution_count": 47,
   "metadata": {},
   "outputs": [],
   "source": [
    "a = 'This is a way'"
   ]
  },
  {
   "cell_type": "code",
   "execution_count": 48,
   "metadata": {},
   "outputs": [
    {
     "name": "stdout",
     "output_type": "stream",
     "text": [
      "T\n",
      "h\n",
      "i\n",
      "s\n",
      " \n",
      "i\n",
      "s\n",
      " \n",
      "a\n",
      " \n",
      "w\n",
      "a\n",
      "y\n"
     ]
    }
   ],
   "source": [
    "for i in a:\n",
    "    print(i)"
   ]
  },
  {
   "cell_type": "code",
   "execution_count": 56,
   "metadata": {},
   "outputs": [
    {
     "name": "stdout",
     "output_type": "stream",
     "text": [
      "This\n",
      "is\n",
      "a\n",
      "way\n"
     ]
    }
   ],
   "source": [
    "for i in a.split():\n",
    "    for x in range(1):\n",
    "        print(i)"
   ]
  },
  {
   "cell_type": "code",
   "execution_count": 14,
   "metadata": {},
   "outputs": [],
   "source": [
    "def pl_sentence():\n",
    "    sentence = input()\n",
    "\n",
    "    mod_sentence = []\n",
    "    for word in sentence.split():\n",
    "        if word[0].lower() in ('a','e','i','o','u'):\n",
    "            mod_sentence.append(word+'way')\n",
    "        else:\n",
    "            mod_sentence.append(word[1:]+word[0]+'ay')\n",
    "    return ' '.join(mod_sentence)"
   ]
  },
  {
   "cell_type": "code",
   "execution_count": 15,
   "metadata": {},
   "outputs": [
    {
     "data": {
      "text/plain": [
       "'hisTay isway hetay amegay hattay Iway antway otay ebay awayway'"
      ]
     },
     "execution_count": 15,
     "metadata": {},
     "output_type": "execute_result"
    }
   ],
   "source": [
    "pl_sentence()"
   ]
  },
  {
   "attachments": {},
   "cell_type": "markdown",
   "metadata": {},
   "source": [
    "#### Open Pdf"
   ]
  },
  {
   "cell_type": "code",
   "execution_count": 4,
   "metadata": {},
   "outputs": [],
   "source": [
    "path = 'C:/Users/v4run/Downloads/2021.04.07.21254975.full.pdf'"
   ]
  },
  {
   "cell_type": "code",
   "execution_count": 5,
   "metadata": {},
   "outputs": [],
   "source": [
    "import PyPDF2"
   ]
  },
  {
   "cell_type": "code",
   "execution_count": 36,
   "metadata": {},
   "outputs": [],
   "source": [
    "def read_pdf(filePath):\n",
    "    with open(path,'rb') as file:\n",
    "        pdf_reader = PyPDF2.PdfReader(file)\n",
    "        \n",
    "        content = \"\"\n",
    "        for  page_num in range(2):\n",
    "            page = pdf_reader.pages[page_num]\n",
    "            text = page.extract_text()\n",
    "            content += text + \" \"\n",
    "        return content"
   ]
  },
  {
   "cell_type": "code",
   "execution_count": 61,
   "metadata": {},
   "outputs": [],
   "source": [
    "def nonsensical(text):\n",
    "    content = read_pdf(text)\n",
    "\n",
    "    start_index = content.find('Improving')\n",
    "    end_index = content.find('/medimetrics.')+7000\n",
    "\n",
    "    required_content = content[start_index:end_index]\n",
    "    lines = required_content.split('\\n')\n",
    "\n",
    "    sentence = ''\n",
    "    for i, line in enumerate(lines):\n",
    "        words = line.split()\n",
    "        if len(words) >= i+1:\n",
    "            sentence += words[i] + ' '\n",
    "    return sentence.strip()"
   ]
  },
  {
   "cell_type": "code",
   "execution_count": 62,
   "metadata": {},
   "outputs": [],
   "source": [
    "sent = nonsensical(path)"
   ]
  },
  {
   "attachments": {},
   "cell_type": "markdown",
   "metadata": {},
   "source": [
    "#### Create a class"
   ]
  },
  {
   "cell_type": "code",
   "execution_count": 77,
   "metadata": {},
   "outputs": [],
   "source": [
    "class nonsensical_from_pdf:\n",
    "    def __init__(self):\n",
    "        pass\n",
    "\n",
    "    def read_pdf(self, filePath):\n",
    "        with open(filePath,'rb') as file:\n",
    "            pdf_reader = PyPDF2.PdfReader(file)\n",
    "            \n",
    "            content = \"\"\n",
    "            for  page_num in range(2):\n",
    "                page = pdf_reader.pages[page_num]\n",
    "                text = page.extract_text()\n",
    "                content += text + \" \"\n",
    "            return content\n",
    "        \n",
    "    def nonsensical(self,filePath):\n",
    "        content = self.read_pdf(filePath)\n",
    "\n",
    "        start_index = content.find('Improving')\n",
    "        end_index = content.find('/medimetrics.')+7000\n",
    "\n",
    "        required_content = content[start_index:end_index]\n",
    "        lines = required_content.split('\\n')\n",
    "\n",
    "        sentence = ''\n",
    "        for i, line in enumerate(lines):\n",
    "            words = line.split()\n",
    "            if len(words) >= i+1:\n",
    "                sentence += words[i] + ' '\n",
    "        return sentence.strip()"
   ]
  },
  {
   "cell_type": "code",
   "execution_count": 78,
   "metadata": {},
   "outputs": [],
   "source": [
    "x = nonsensical_from_pdf()"
   ]
  },
  {
   "cell_type": "code",
   "execution_count": 79,
   "metadata": {},
   "outputs": [
    {
     "data": {
      "text/plain": [
       "'Improving ( week. suitability examples the our systems. signiﬁcantly These of models an model work and use in'"
      ]
     },
     "execution_count": 79,
     "metadata": {},
     "output_type": "execute_result"
    }
   ],
   "source": [
    "x.nonsensical(path)"
   ]
  },
  {
   "attachments": {},
   "cell_type": "markdown",
   "metadata": {},
   "source": [
    "#### Function that transposes a list"
   ]
  },
  {
   "cell_type": "code",
   "execution_count": 166,
   "metadata": {},
   "outputs": [],
   "source": [
    "def transpose_list(input):\n",
    "    final_list = []\n",
    "\n",
    "    for length in range(len(input[1])): # We are expecting same number of words provided\n",
    "        sentence = ''\n",
    "        for index, word in enumerate(input):\n",
    "            one_wrd = word.split()\n",
    "            if length >= len(one_wrd):\n",
    "                continue\n",
    "            else:\n",
    "                sentence += one_wrd[length] + ' '\n",
    "        if not sentence:\n",
    "            continue\n",
    "        else:\n",
    "            final_list.append(sentence.strip())\n",
    "    \n",
    "    return final_list"
   ]
  },
  {
   "cell_type": "code",
   "execution_count": 167,
   "metadata": {},
   "outputs": [
    {
     "data": {
      "text/plain": [
       "['This Not', 'is is', 'how what', 'I I', 'like kill', 'my your', 'game name']"
      ]
     },
     "execution_count": 167,
     "metadata": {},
     "output_type": "execute_result"
    }
   ],
   "source": [
    "transpose_list(['This is how I like my game','Not is what I kill your name'])"
   ]
  }
 ],
 "metadata": {
  "kernelspec": {
   "display_name": ".venv",
   "language": "python",
   "name": "python3"
  },
  "language_info": {
   "codemirror_mode": {
    "name": "ipython",
    "version": 3
   },
   "file_extension": ".py",
   "mimetype": "text/x-python",
   "name": "python",
   "nbconvert_exporter": "python",
   "pygments_lexer": "ipython3",
   "version": "3.9.13"
  },
  "orig_nbformat": 4
 },
 "nbformat": 4,
 "nbformat_minor": 2
}
