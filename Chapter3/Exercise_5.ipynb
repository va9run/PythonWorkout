{
 "cells": [
  {
   "cell_type": "code",
   "execution_count": 7,
   "metadata": {},
   "outputs": [],
   "source": [
    "def format_sort_record(people):\n",
    "    template = '{:<10} {:<10} {:2f}'\n",
    "    return '\\n'.join(template.format(last, first, time) for last, first, time in sorted(people, key = lambda x:x[1]))"
   ]
  },
  {
   "cell_type": "code",
   "execution_count": 8,
   "metadata": {},
   "outputs": [
    {
     "data": {
      "text/plain": [
       "'Washington House      11.876543\\nDonald     Trump      10.999000'"
      ]
     },
     "execution_count": 8,
     "metadata": {},
     "output_type": "execute_result"
    }
   ],
   "source": [
    "format_sort_record([('Donald','Trump',10.999),('Washington','House',11.876543)])"
   ]
  },
  {
   "cell_type": "code",
   "execution_count": 39,
   "metadata": {},
   "outputs": [],
   "source": [
    "def userChoice(movieRecord):\n",
    "    template = '{:<50} {:} {:<10}'\n",
    "    try:\n",
    "        choice = int(input(\"How do you want to sort by movie(1), by length(2), by director(3): \"))\n",
    "        return '\\n'.join(template.format(movie, length, director) for movie, length, director in sorted(movieRecord, key= lambda x: x[choice-1], reverse=True))\n",
    "    except:\n",
    "        print('Please enter integer')"
   ]
  },
  {
   "cell_type": "code",
   "execution_count": 43,
   "metadata": {},
   "outputs": [
    {
     "data": {
      "text/plain": [
       "'Game                                               67.88 Tommy     \\nDonald                                             10.999 Taump     \\nWashington                                         11.876543 House     '"
      ]
     },
     "execution_count": 43,
     "metadata": {},
     "output_type": "execute_result"
    }
   ],
   "source": [
    "userChoice([('Donald',10.999,'Taump'),('Washington',11.876543,'House'),('Game',67.88,'Tommy')])"
   ]
  },
  {
   "cell_type": "code",
   "execution_count": 88,
   "metadata": {},
   "outputs": [],
   "source": [
    "def multiChoice(movieRecord):\n",
    "    template = '{:<50} {:} {:<10}'\n",
    "    try:\n",
    "        choice = list(input(\"How do you want to sort by movie(1), by length(2), by director(3): \").replace(',',''))\n",
    "        choice1 = int(choice[0])\n",
    "        choice2 = int(choice[1])\n",
    "        return '\\n'.join(template.format(movie, length, director) for movie, length, director in sorted(movieRecord, key= lambda x: (x[choice1-1],x[choice2-1]), reverse=True))\n",
    "    except:\n",
    "        print('Please enter integer')"
   ]
  },
  {
   "cell_type": "code",
   "execution_count": 89,
   "metadata": {},
   "outputs": [
    {
     "data": {
      "text/plain": [
       "'Washington                                         11.876543 House     \\nGame                                               67.88 Tommy     \\nDonald                                             10.999 Taump     '"
      ]
     },
     "execution_count": 89,
     "metadata": {},
     "output_type": "execute_result"
    }
   ],
   "source": [
    "multiChoice([('Donald',10.999,'Taump'),('Washington',11.876543,'House'),('Game',67.88,'Tommy')])"
   ]
  }
 ],
 "metadata": {
  "kernelspec": {
   "display_name": ".venv",
   "language": "python",
   "name": "python3"
  },
  "language_info": {
   "codemirror_mode": {
    "name": "ipython",
    "version": 3
   },
   "file_extension": ".py",
   "mimetype": "text/x-python",
   "name": "python",
   "nbconvert_exporter": "python",
   "pygments_lexer": "ipython3",
   "version": "3.9.13"
  },
  "orig_nbformat": 4
 },
 "nbformat": 4,
 "nbformat_minor": 2
}
