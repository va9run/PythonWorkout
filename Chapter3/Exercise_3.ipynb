{
 "cells": [
  {
   "cell_type": "code",
   "execution_count": 1,
   "metadata": {},
   "outputs": [],
   "source": [
    "PEOPLE = [\n",
    "            {'first':'Reuven', 'last':'Lerner', 'email':'xay@gmail.com'},\n",
    "            {'first':'Donald', 'last':'Tru', 'email':'rsf@gmail.com'},\n",
    "            {'first':'Gary', 'last':'Fal', 'email':'ytr@gmail.com'}\n",
    "         ]"
   ]
  },
  {
   "cell_type": "code",
   "execution_count": 8,
   "metadata": {},
   "outputs": [],
   "source": [
    "def alphabetize_names(dictionaries):\n",
    "    return [dictionaries['last'],dictionaries['first']]"
   ]
  },
  {
   "cell_type": "code",
   "execution_count": 9,
   "metadata": {},
   "outputs": [
    {
     "data": {
      "text/plain": [
       "[{'first': 'Gary', 'last': 'Fal', 'email': 'ytr@gmail.com'},\n",
       " {'first': 'Reuven', 'last': 'Lerner', 'email': 'xay@gmail.com'},\n",
       " {'first': 'Donald', 'last': 'Tru', 'email': 'rsf@gmail.com'}]"
      ]
     },
     "execution_count": 9,
     "metadata": {},
     "output_type": "execute_result"
    }
   ],
   "source": [
    "sorted(PEOPLE,key=alphabetize_names)"
   ]
  },
  {
   "cell_type": "code",
   "execution_count": 10,
   "metadata": {},
   "outputs": [],
   "source": [
    "import operator"
   ]
  },
  {
   "cell_type": "code",
   "execution_count": 13,
   "metadata": {},
   "outputs": [],
   "source": [
    "def alphabetize_names(dictionaries):\n",
    "    return sorted(dictionaries, key=operator.itemgetter('last','first'))"
   ]
  },
  {
   "cell_type": "code",
   "execution_count": 14,
   "metadata": {},
   "outputs": [
    {
     "data": {
      "text/plain": [
       "[{'first': 'Gary', 'last': 'Fal', 'email': 'ytr@gmail.com'},\n",
       " {'first': 'Reuven', 'last': 'Lerner', 'email': 'xay@gmail.com'},\n",
       " {'first': 'Donald', 'last': 'Tru', 'email': 'rsf@gmail.com'}]"
      ]
     },
     "execution_count": 14,
     "metadata": {},
     "output_type": "execute_result"
    }
   ],
   "source": [
    "alphabetize_names(PEOPLE)"
   ]
  },
  {
   "cell_type": "code",
   "execution_count": 17,
   "metadata": {},
   "outputs": [
    {
     "data": {
      "text/plain": [
       "1"
      ]
     },
     "execution_count": 17,
     "metadata": {},
     "output_type": "execute_result"
    }
   ],
   "source": [
    "a = -1\n",
    "abs(a)"
   ]
  },
  {
   "cell_type": "code",
   "execution_count": 62,
   "metadata": {},
   "outputs": [],
   "source": [
    "def sort_value(*args):\n",
    "    new_list = []\n",
    "    for arg in args:\n",
    "        if isinstance(arg,list) | isinstance(arg,tuple):\n",
    "            for val in arg:\n",
    "                new_list.append(val)\n",
    "        else:\n",
    "            new_list.append(arg)\n",
    "    return sorted(new_list, key=abs)"
   ]
  },
  {
   "cell_type": "code",
   "execution_count": 63,
   "metadata": {},
   "outputs": [
    {
     "data": {
      "text/plain": [
       "[10, -11, 12]"
      ]
     },
     "execution_count": 63,
     "metadata": {},
     "output_type": "execute_result"
    }
   ],
   "source": [
    "sort_value([-11,10,12])"
   ]
  },
  {
   "cell_type": "code",
   "execution_count": 64,
   "metadata": {},
   "outputs": [
    {
     "data": {
      "text/plain": [
       "[10, -11, 12]"
      ]
     },
     "execution_count": 64,
     "metadata": {},
     "output_type": "execute_result"
    }
   ],
   "source": [
    "sort_value((-11,10,12))"
   ]
  },
  {
   "cell_type": "code",
   "execution_count": 140,
   "metadata": {},
   "outputs": [],
   "source": [
    "def sort_string(word_list):\n",
    "    length = {}\n",
    "    for word in word_list:\n",
    "        length[word] = 0\n",
    "        for letter in word:\n",
    "            if letter in ('a','e','i','o','u'):\n",
    "                length[word] += 1\n",
    "    return dict(sorted(length.items(), key= lambda y: y[1]))"
   ]
  },
  {
   "cell_type": "code",
   "execution_count": 141,
   "metadata": {},
   "outputs": [
    {
     "data": {
      "text/plain": [
       "{'aap': 2, 'Manager': 3, 'Vowelie': 4}"
      ]
     },
     "execution_count": 141,
     "metadata": {},
     "output_type": "execute_result"
    }
   ],
   "source": [
    "sort_string(a)"
   ]
  },
  {
   "cell_type": "code",
   "execution_count": 117,
   "metadata": {},
   "outputs": [],
   "source": [
    "a = ['Vowelie','Manager','aap']"
   ]
  },
  {
   "cell_type": "code",
   "execution_count": 146,
   "metadata": {},
   "outputs": [],
   "source": [
    "def count_vowels(words):\n",
    "    vowels = ['a','e','i','o','u']\n",
    "    return sum(1 for letter in words.lower() if letter in vowels)"
   ]
  },
  {
   "cell_type": "code",
   "execution_count": 113,
   "metadata": {},
   "outputs": [
    {
     "data": {
      "text/plain": [
       "[4, 3]"
      ]
     },
     "execution_count": 113,
     "metadata": {},
     "output_type": "execute_result"
    }
   ],
   "source": [
    "list(map(lambda y: count_vowels(y),a))"
   ]
  },
  {
   "cell_type": "code",
   "execution_count": 147,
   "metadata": {},
   "outputs": [],
   "source": [
    "a.sort(key=count_vowels,reverse=True)"
   ]
  },
  {
   "cell_type": "code",
   "execution_count": 148,
   "metadata": {},
   "outputs": [
    {
     "data": {
      "text/plain": [
       "['Vowelie', 'Manager', 'aap']"
      ]
     },
     "execution_count": 148,
     "metadata": {},
     "output_type": "execute_result"
    }
   ],
   "source": [
    "a"
   ]
  },
  {
   "cell_type": "code",
   "execution_count": 114,
   "metadata": {},
   "outputs": [
    {
     "data": {
      "text/plain": [
       "['Vowelie', 'Manager']"
      ]
     },
     "execution_count": 114,
     "metadata": {},
     "output_type": "execute_result"
    }
   ],
   "source": [
    "sorted(a,key=count_vowels,reverse=True)"
   ]
  },
  {
   "cell_type": "code",
   "execution_count": null,
   "metadata": {},
   "outputs": [],
   "source": [
    "length = {'Vowlie':5,'Manager':2}"
   ]
  },
  {
   "cell_type": "code",
   "execution_count": 64,
   "metadata": {},
   "outputs": [],
   "source": [
    "def sort_list(list_of_list):\n",
    "    return sorted(list_of_list,key=sum) # use of sorted function"
   ]
  },
  {
   "cell_type": "code",
   "execution_count": 65,
   "metadata": {},
   "outputs": [
    {
     "data": {
      "text/plain": [
       "[[1, 2], [9, 8, 7], [0, 100]]"
      ]
     },
     "execution_count": 65,
     "metadata": {},
     "output_type": "execute_result"
    }
   ],
   "source": [
    "x = [[1,2],[0,100],[9,8,7]]  \n",
    "sort_list(x)"
   ]
  },
  {
   "cell_type": "code",
   "execution_count": 62,
   "metadata": {},
   "outputs": [],
   "source": [
    "def sort_list(list_of_list):\n",
    "    sum_of_all_lists = []\n",
    "\n",
    "    count = 0\n",
    "    x = []\n",
    "    for ind, unlist1 in enumerate(list_of_list):\n",
    "        if ind > 0:\n",
    "            sum_of_all_lists.append((count,x))\n",
    "            count = 0\n",
    "            x = []\n",
    "            for unlist2 in unlist1:\n",
    "                count += unlist2\n",
    "                x.append(unlist2)\n",
    "        else:\n",
    "            for unlist2 in unlist1:\n",
    "                count += unlist2\n",
    "                x.append(unlist2)\n",
    "    sum_of_all_lists.append((count,x))\n",
    "    \n",
    "    sum_of_all_lists.sort(key=lambda a:a[0],reverse=True) # we can use just sort without lambda it has no use here though\n",
    "    return [sublist for _,sublist in sum_of_all_lists]  # list comprehension"
   ]
  },
  {
   "cell_type": "code",
   "execution_count": 63,
   "metadata": {},
   "outputs": [
    {
     "data": {
      "text/plain": [
       "[[0, 100], [9, 8, 7], [1, 2]]"
      ]
     },
     "execution_count": 63,
     "metadata": {},
     "output_type": "execute_result"
    }
   ],
   "source": [
    "sort_list(x)"
   ]
  }
 ],
 "metadata": {
  "kernelspec": {
   "display_name": ".venv",
   "language": "python",
   "name": "python3"
  },
  "language_info": {
   "codemirror_mode": {
    "name": "ipython",
    "version": 3
   },
   "file_extension": ".py",
   "mimetype": "text/x-python",
   "name": "python",
   "nbconvert_exporter": "python",
   "pygments_lexer": "ipython3",
   "version": "3.9.13"
  },
  "orig_nbformat": 4
 },
 "nbformat": 4,
 "nbformat_minor": 2
}
