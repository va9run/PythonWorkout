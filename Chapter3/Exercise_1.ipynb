{
 "cells": [
  {
   "cell_type": "code",
   "execution_count": 1,
   "metadata": {},
   "outputs": [],
   "source": [
    "# First last"
   ]
  },
  {
   "cell_type": "code",
   "execution_count": 27,
   "metadata": {},
   "outputs": [],
   "source": [
    "def firstlast(argument):\n",
    "    return f'First and last letter from {argument} is {argument[0]}{argument[-1]}'"
   ]
  },
  {
   "cell_type": "code",
   "execution_count": 28,
   "metadata": {},
   "outputs": [
    {
     "data": {
      "text/plain": [
       "'First and last letter from (109, 10, 1, 2) is 1092'"
      ]
     },
     "execution_count": 28,
     "metadata": {},
     "output_type": "execute_result"
    }
   ],
   "source": [
    "firstlast((109,10,1,2))"
   ]
  },
  {
   "cell_type": "code",
   "execution_count": 31,
   "metadata": {},
   "outputs": [],
   "source": [
    "def firstlast(argument):            ### Using Indexing method\n",
    "    if isinstance(argument,list) | isinstance(argument,tuple):\n",
    "        return f'First and last letter from {argument} is [{argument[0]},{argument[-1]}]'\n",
    "    else:\n",
    "        return f'First and last letter from {argument} is {argument[0]}{argument[-1]}'"
   ]
  },
  {
   "cell_type": "code",
   "execution_count": 32,
   "metadata": {},
   "outputs": [
    {
     "data": {
      "text/plain": [
       "'First and last letter from (109, 10, 1, 2) is [109,2]'"
      ]
     },
     "execution_count": 32,
     "metadata": {},
     "output_type": "execute_result"
    }
   ],
   "source": [
    "firstlast((109,10,1,2))"
   ]
  },
  {
   "cell_type": "code",
   "execution_count": 18,
   "metadata": {},
   "outputs": [],
   "source": [
    "def firstlast(argument):\n",
    "        return f'First and last letter from {argument} is {argument[:1]+argument[-1:]}' ### Using slicing method"
   ]
  },
  {
   "cell_type": "code",
   "execution_count": 26,
   "metadata": {},
   "outputs": [
    {
     "data": {
      "text/plain": [
       "'First and last letter from (109, 10, 1, 2) is (109, 2)'"
      ]
     },
     "execution_count": 26,
     "metadata": {},
     "output_type": "execute_result"
    }
   ],
   "source": [
    "firstlast((109,10,1,2))"
   ]
  },
  {
   "cell_type": "code",
   "execution_count": 24,
   "metadata": {},
   "outputs": [],
   "source": [
    "def universal_sq(number):  #Square number\n",
    "    numbers = number\n",
    "    return numbers**2"
   ]
  },
  {
   "cell_type": "code",
   "execution_count": 25,
   "metadata": {},
   "outputs": [
    {
     "data": {
      "text/plain": [
       "102.00999999999999"
      ]
     },
     "execution_count": 25,
     "metadata": {},
     "output_type": "execute_result"
    }
   ],
   "source": [
    "universal_sq(10.1)"
   ]
  },
  {
   "cell_type": "code",
   "execution_count": 42,
   "metadata": {},
   "outputs": [],
   "source": [
    "def largest(entry):      # Find largest\n",
    "    if not isinstance(entry,str): \n",
    "        return max(entry)\n",
    "    else:\n",
    "        return max(entry.lower())"
   ]
  },
  {
   "cell_type": "code",
   "execution_count": 46,
   "metadata": {},
   "outputs": [
    {
     "name": "stdout",
     "output_type": "stream",
     "text": [
      "13\n",
      "d\n",
      "13\n"
     ]
    }
   ],
   "source": [
    "print(largest([10,12,13]))\n",
    "print(largest('AbCD'))\n",
    "print(largest((10,12,13)))"
   ]
  },
  {
   "cell_type": "code",
   "execution_count": 69,
   "metadata": {},
   "outputs": [],
   "source": [
    "def even_odd_sums(entry):       # Even odd sum \n",
    "    try:\n",
    "        output = []\n",
    "        even = 0\n",
    "        odd = 0\n",
    "        for i in range(0,len(entry),2):\n",
    "            even+=entry[i]\n",
    "        for j in range(1,len(entry),2):\n",
    "            odd+=entry[j]\n",
    "        output.append(even)\n",
    "        output.append(odd)\n",
    "        return f'Sum of even and odd numbers are: {output}'\n",
    "    except ValueError as e:\n",
    "        print('Not valid entry')"
   ]
  },
  {
   "cell_type": "code",
   "execution_count": 70,
   "metadata": {},
   "outputs": [
    {
     "data": {
      "text/plain": [
       "'Sum of even and odd numbers are: [90, 60]'"
      ]
     },
     "execution_count": 70,
     "metadata": {},
     "output_type": "execute_result"
    }
   ],
   "source": [
    "even_odd_sums([10,20,30,40,50])"
   ]
  },
  {
   "cell_type": "code",
   "execution_count": 71,
   "metadata": {},
   "outputs": [
    {
     "data": {
      "text/plain": [
       "'Sum of even and odd numbers are: [90, 60]'"
      ]
     },
     "execution_count": 71,
     "metadata": {},
     "output_type": "execute_result"
    }
   ],
   "source": [
    "even_odd_sums((10,20,30,40,50))"
   ]
  },
  {
   "cell_type": "code",
   "execution_count": 130,
   "metadata": {},
   "outputs": [],
   "source": [
    "def plus_minus(entry):                # Plus minus\n",
    "    try:\n",
    "        equation = f'{entry[0]}'\n",
    "        output = entry[0]\n",
    "        for i in range(1,len(entry)):\n",
    "            if i%2 == 0:\n",
    "                print(i,'Even')\n",
    "                output -= entry[i]\n",
    "                equation += f'-{entry[i]}'\n",
    "            else:\n",
    "                output += entry[i]\n",
    "                equation += f'+{entry[i]}'\n",
    "        print(output)\n",
    "        print(equation)\n",
    "\n",
    "    except:\n",
    "        pass"
   ]
  },
  {
   "cell_type": "code",
   "execution_count": 131,
   "metadata": {},
   "outputs": [
    {
     "name": "stdout",
     "output_type": "stream",
     "text": [
      "2 Even\n",
      "4 Even\n",
      "50\n",
      "10+20-30+40-50+60\n"
     ]
    }
   ],
   "source": [
    "plus_minus([10,20,30,40,50,60])"
   ]
  },
  {
   "cell_type": "code",
   "execution_count": 141,
   "metadata": {},
   "outputs": [],
   "source": [
    "def myzip(entry1, entry2):\n",
    "    output = []\n",
    "    for i, j in zip(entry1,entry2):\n",
    "        result = (i,j)\n",
    "        output.append(result)\n",
    "    return output "
   ]
  },
  {
   "cell_type": "code",
   "execution_count": 142,
   "metadata": {},
   "outputs": [
    {
     "data": {
      "text/plain": [
       "[(10, 'a'), (20, 'b'), (30, 'c')]"
      ]
     },
     "execution_count": 142,
     "metadata": {},
     "output_type": "execute_result"
    }
   ],
   "source": [
    "myzip([10,20,30],'abc')"
   ]
  },
  {
   "cell_type": "code",
   "execution_count": 158,
   "metadata": {},
   "outputs": [],
   "source": [
    "def myzip(entry1, entry2):   # emulate python zip function \n",
    "    output = []\n",
    "    for i in range(len(entry1)):\n",
    "        result = (entry1[i],entry2[i])\n",
    "        output.append(result)\n",
    "    return output"
   ]
  },
  {
   "cell_type": "code",
   "execution_count": 159,
   "metadata": {},
   "outputs": [
    {
     "data": {
      "text/plain": [
       "[(10, 'a'), (20, 'b'), (30, 'c')]"
      ]
     },
     "execution_count": 159,
     "metadata": {},
     "output_type": "execute_result"
    }
   ],
   "source": [
    "myzip([10,20,30],'abc')"
   ]
  },
  {
   "cell_type": "code",
   "execution_count": null,
   "metadata": {},
   "outputs": [],
   "source": []
  }
 ],
 "metadata": {
  "kernelspec": {
   "display_name": ".venv",
   "language": "python",
   "name": "python3"
  },
  "language_info": {
   "codemirror_mode": {
    "name": "ipython",
    "version": 3
   },
   "file_extension": ".py",
   "mimetype": "text/x-python",
   "name": "python",
   "nbconvert_exporter": "python",
   "pygments_lexer": "ipython3",
   "version": "3.9.13"
  },
  "orig_nbformat": 4
 },
 "nbformat": 4,
 "nbformat_minor": 2
}
