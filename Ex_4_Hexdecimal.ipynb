{
 "cells": [
  {
   "cell_type": "code",
   "execution_count": 3,
   "metadata": {},
   "outputs": [],
   "source": [
    "def name_triangle():\n",
    "    name =input(\"enter your name\")\n",
    "    for count in range (len(name)):\n",
    "        print(name[:(count+1)])"
   ]
  },
  {
   "cell_type": "code",
   "execution_count": 5,
   "metadata": {},
   "outputs": [
    {
     "name": "stdout",
     "output_type": "stream",
     "text": [
      "I\n",
      "If\n",
      "If \n",
      "If y\n",
      "If yo\n",
      "If you\n",
      "If you \n",
      "If you w\n",
      "If you wa\n",
      "If you wan\n",
      "If you want\n",
      "If you want \n",
      "If you want t\n",
      "If you want to\n",
      "If you want to \n",
      "If you want to c\n",
      "If you want to ch\n",
      "If you want to cha\n",
      "If you want to chan\n",
      "If you want to chang\n",
      "If you want to change\n",
      "If you want to change \n",
      "If you want to change t\n",
      "If you want to change th\n",
      "If you want to change the\n",
      "If you want to change the \n",
      "If you want to change the w\n",
      "If you want to change the wo\n",
      "If you want to change the wor\n",
      "If you want to change the worl\n",
      "If you want to change the world\n",
      "If you want to change the world \n",
      "If you want to change the world s\n",
      "If you want to change the world st\n",
      "If you want to change the world sta\n",
      "If you want to change the world star\n",
      "If you want to change the world start\n",
      "If you want to change the world start \n",
      "If you want to change the world start o\n",
      "If you want to change the world start of\n",
      "If you want to change the world start off\n",
      "If you want to change the world start off \n",
      "If you want to change the world start off b\n",
      "If you want to change the world start off by\n",
      "If you want to change the world start off by \n",
      "If you want to change the world start off by m\n",
      "If you want to change the world start off by ma\n",
      "If you want to change the world start off by mak\n",
      "If you want to change the world start off by maki\n",
      "If you want to change the world start off by makin\n",
      "If you want to change the world start off by making\n",
      "If you want to change the world start off by making \n",
      "If you want to change the world start off by making y\n",
      "If you want to change the world start off by making yo\n",
      "If you want to change the world start off by making you\n",
      "If you want to change the world start off by making your\n",
      "If you want to change the world start off by making your \n",
      "If you want to change the world start off by making your b\n",
      "If you want to change the world start off by making your be\n",
      "If you want to change the world start off by making your bed\n"
     ]
    }
   ],
   "source": [
    "name_triangle()"
   ]
  },
  {
   "cell_type": "code",
   "execution_count": null,
   "metadata": {},
   "outputs": [],
   "source": []
  }
 ],
 "metadata": {
  "kernelspec": {
   "display_name": ".venv",
   "language": "python",
   "name": "python3"
  },
  "language_info": {
   "codemirror_mode": {
    "name": "ipython",
    "version": 3
   },
   "file_extension": ".py",
   "mimetype": "text/x-python",
   "name": "python",
   "nbconvert_exporter": "python",
   "pygments_lexer": "ipython3",
   "version": "3.9.13"
  },
  "orig_nbformat": 4
 },
 "nbformat": 4,
 "nbformat_minor": 2
}
